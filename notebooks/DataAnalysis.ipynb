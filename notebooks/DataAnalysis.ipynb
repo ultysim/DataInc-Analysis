{
 "cells": [
  {
   "cell_type": "code",
   "execution_count": 1,
   "metadata": {
    "collapsed": true
   },
   "outputs": [],
   "source": [
    "import pandas as pd\n",
    "import numpy as np\n",
    "import matplotlib.pyplot as plt"
   ]
  },
  {
   "cell_type": "code",
   "execution_count": 2,
   "metadata": {},
   "outputs": [
    {
     "name": "stderr",
     "output_type": "stream",
     "text": [
      "c:\\python\\python35\\lib\\site-packages\\ipykernel_launcher.py:1: FutureWarning: read_table is deprecated, use read_csv instead, passing sep='\\t'.\n",
      "  \"\"\"Entry point for launching an IPython kernel.\n"
     ]
    }
   ],
   "source": [
    "df2017 = pd.read_table(\"PartD_Prescriber_PUF_NPI_17.txt\")"
   ]
  },
  {
   "cell_type": "code",
   "execution_count": 3,
   "metadata": {
    "collapsed": true
   },
   "outputs": [],
   "source": [
    "pd.set_option('display.max_columns', None)"
   ]
  },
  {
   "cell_type": "code",
   "execution_count": 4,
   "metadata": {},
   "outputs": [
    {
     "data": {
      "text/html": [
       "<div>\n",
       "<style scoped>\n",
       "    .dataframe tbody tr th:only-of-type {\n",
       "        vertical-align: middle;\n",
       "    }\n",
       "\n",
       "    .dataframe tbody tr th {\n",
       "        vertical-align: top;\n",
       "    }\n",
       "\n",
       "    .dataframe thead th {\n",
       "        text-align: right;\n",
       "    }\n",
       "</style>\n",
       "<table border=\"1\" class=\"dataframe\">\n",
       "  <thead>\n",
       "    <tr style=\"text-align: right;\">\n",
       "      <th></th>\n",
       "      <th>npi</th>\n",
       "      <th>nppes_provider_last_org_name</th>\n",
       "      <th>nppes_provider_first_name</th>\n",
       "      <th>nppes_provider_mi</th>\n",
       "      <th>nppes_credentials</th>\n",
       "      <th>nppes_provider_gender</th>\n",
       "      <th>nppes_entity_code</th>\n",
       "      <th>nppes_provider_street1</th>\n",
       "      <th>nppes_provider_street2</th>\n",
       "      <th>nppes_provider_city</th>\n",
       "      <th>nppes_provider_zip5</th>\n",
       "      <th>nppes_provider_zip4</th>\n",
       "      <th>nppes_provider_state</th>\n",
       "      <th>nppes_provider_country</th>\n",
       "      <th>specialty_description</th>\n",
       "      <th>description_flag</th>\n",
       "      <th>medicare_prvdr_enroll_status</th>\n",
       "      <th>total_claim_count</th>\n",
       "      <th>total_30_day_fill_count</th>\n",
       "      <th>total_drug_cost</th>\n",
       "      <th>total_day_supply</th>\n",
       "      <th>bene_count</th>\n",
       "      <th>ge65_suppress_flag</th>\n",
       "      <th>total_claim_count_ge65</th>\n",
       "      <th>total_30_day_fill_count_ge65</th>\n",
       "      <th>total_drug_cost_ge65</th>\n",
       "      <th>total_day_supply_ge65</th>\n",
       "      <th>bene_count_ge65_suppress_flag</th>\n",
       "      <th>bene_count_ge65</th>\n",
       "      <th>brand_suppress_flag</th>\n",
       "      <th>brand_claim_count</th>\n",
       "      <th>brand_drug_cost</th>\n",
       "      <th>generic_suppress_flag</th>\n",
       "      <th>generic_claim_count</th>\n",
       "      <th>generic_drug_cost</th>\n",
       "      <th>other_suppress_flag</th>\n",
       "      <th>other_claim_count</th>\n",
       "      <th>other_drug_cost</th>\n",
       "      <th>mapd_suppress_flag</th>\n",
       "      <th>mapd_claim_count</th>\n",
       "      <th>mapd_drug_cost</th>\n",
       "      <th>pdp_suppress_flag</th>\n",
       "      <th>pdp_claim_count</th>\n",
       "      <th>pdp_drug_cost</th>\n",
       "      <th>lis_suppress_flag</th>\n",
       "      <th>lis_claim_count</th>\n",
       "      <th>lis_drug_cost</th>\n",
       "      <th>nonlis_suppress_flag</th>\n",
       "      <th>nonlis_claim_count</th>\n",
       "      <th>nonlis_drug_cost</th>\n",
       "      <th>opioid_claim_count</th>\n",
       "      <th>opioid_drug_cost</th>\n",
       "      <th>opioid_day_supply</th>\n",
       "      <th>opioid_bene_count</th>\n",
       "      <th>opioid_prescriber_rate</th>\n",
       "      <th>la_opioid_claim_count</th>\n",
       "      <th>la_opioid_drug_cost</th>\n",
       "      <th>la_opioid_day_supply</th>\n",
       "      <th>la_opioid_bene_count</th>\n",
       "      <th>la_opioid_prescriber_rate</th>\n",
       "      <th>antibiotic_claim_count</th>\n",
       "      <th>antibiotic_drug_cost</th>\n",
       "      <th>antibiotic_bene_count</th>\n",
       "      <th>antipsych_ge65_suppress_flag</th>\n",
       "      <th>antipsych_claim_count_ge65</th>\n",
       "      <th>antipsych_drug_cost_ge65</th>\n",
       "      <th>antipsych_bene_ge65_suppress_flg</th>\n",
       "      <th>antipsych_bene_count_ge65</th>\n",
       "      <th>average_age_of_beneficiaries</th>\n",
       "      <th>beneficiary_age_less_65_count</th>\n",
       "      <th>beneficiary_age_65_74_count</th>\n",
       "      <th>beneficiary_age_75_84_count</th>\n",
       "      <th>beneficiary_age_greater_84_count</th>\n",
       "      <th>beneficiary_female_count</th>\n",
       "      <th>beneficiary_male_count</th>\n",
       "      <th>beneficiary_race_white_count</th>\n",
       "      <th>beneficiary_race_black_count</th>\n",
       "      <th>beneficiary_race_asian_pi_count</th>\n",
       "      <th>beneficiary_race_hispanic_count</th>\n",
       "      <th>beneficiary_race_nat_ind_count</th>\n",
       "      <th>beneficiary_race_other_count</th>\n",
       "      <th>beneficiary_nondual_count</th>\n",
       "      <th>beneficiary_dual_count</th>\n",
       "      <th>beneficiary_average_risk_score</th>\n",
       "    </tr>\n",
       "  </thead>\n",
       "  <tbody>\n",
       "    <tr>\n",
       "      <th>0</th>\n",
       "      <td>1003000126</td>\n",
       "      <td>ENKESHAFI</td>\n",
       "      <td>ARDALAN</td>\n",
       "      <td>NaN</td>\n",
       "      <td>M.D.</td>\n",
       "      <td>M</td>\n",
       "      <td>I</td>\n",
       "      <td>900 SETON DR</td>\n",
       "      <td>NaN</td>\n",
       "      <td>CUMBERLAND</td>\n",
       "      <td>21502.0</td>\n",
       "      <td>1854.0</td>\n",
       "      <td>MD</td>\n",
       "      <td>US</td>\n",
       "      <td>Internal Medicine</td>\n",
       "      <td>S</td>\n",
       "      <td>E</td>\n",
       "      <td>677</td>\n",
       "      <td>695.5</td>\n",
       "      <td>32639.57</td>\n",
       "      <td>14788</td>\n",
       "      <td>234.0</td>\n",
       "      <td>NaN</td>\n",
       "      <td>516.0</td>\n",
       "      <td>532.533333</td>\n",
       "      <td>23174.78</td>\n",
       "      <td>11428.0</td>\n",
       "      <td>NaN</td>\n",
       "      <td>182.0</td>\n",
       "      <td>#</td>\n",
       "      <td>NaN</td>\n",
       "      <td>NaN</td>\n",
       "      <td>NaN</td>\n",
       "      <td>552.0</td>\n",
       "      <td>5941.53</td>\n",
       "      <td>*</td>\n",
       "      <td>NaN</td>\n",
       "      <td>NaN</td>\n",
       "      <td>NaN</td>\n",
       "      <td>150.0</td>\n",
       "      <td>3032.66</td>\n",
       "      <td>NaN</td>\n",
       "      <td>527.0</td>\n",
       "      <td>29606.91</td>\n",
       "      <td>NaN</td>\n",
       "      <td>305.0</td>\n",
       "      <td>17267.72</td>\n",
       "      <td>NaN</td>\n",
       "      <td>372.0</td>\n",
       "      <td>15371.85</td>\n",
       "      <td>25.0</td>\n",
       "      <td>197.47</td>\n",
       "      <td>134.0</td>\n",
       "      <td>24.0</td>\n",
       "      <td>3.69</td>\n",
       "      <td>NaN</td>\n",
       "      <td>NaN</td>\n",
       "      <td>NaN</td>\n",
       "      <td>NaN</td>\n",
       "      <td>NaN</td>\n",
       "      <td>125.0</td>\n",
       "      <td>2478.65</td>\n",
       "      <td>104.0</td>\n",
       "      <td>*</td>\n",
       "      <td>NaN</td>\n",
       "      <td>NaN</td>\n",
       "      <td>*</td>\n",
       "      <td>NaN</td>\n",
       "      <td>72.0</td>\n",
       "      <td>52.0</td>\n",
       "      <td>82.0</td>\n",
       "      <td>67.0</td>\n",
       "      <td>33.0</td>\n",
       "      <td>142.0</td>\n",
       "      <td>92.0</td>\n",
       "      <td>220.0</td>\n",
       "      <td>14.0</td>\n",
       "      <td>0.0</td>\n",
       "      <td>0.0</td>\n",
       "      <td>0.0</td>\n",
       "      <td>0.0</td>\n",
       "      <td>143.0</td>\n",
       "      <td>91.0</td>\n",
       "      <td>2.1685</td>\n",
       "    </tr>\n",
       "    <tr>\n",
       "      <th>1</th>\n",
       "      <td>1003000142</td>\n",
       "      <td>KHALIL</td>\n",
       "      <td>RASHID</td>\n",
       "      <td>NaN</td>\n",
       "      <td>M.D.</td>\n",
       "      <td>M</td>\n",
       "      <td>I</td>\n",
       "      <td>4126 N HOLLAND SYLVANIA RD</td>\n",
       "      <td>SUITE 220</td>\n",
       "      <td>TOLEDO</td>\n",
       "      <td>43623.0</td>\n",
       "      <td>3536.0</td>\n",
       "      <td>OH</td>\n",
       "      <td>US</td>\n",
       "      <td>Anesthesiology</td>\n",
       "      <td>S</td>\n",
       "      <td>E</td>\n",
       "      <td>1946</td>\n",
       "      <td>2054.8</td>\n",
       "      <td>140189.01</td>\n",
       "      <td>58605</td>\n",
       "      <td>276.0</td>\n",
       "      <td>NaN</td>\n",
       "      <td>881.0</td>\n",
       "      <td>919.066667</td>\n",
       "      <td>50838.50</td>\n",
       "      <td>26089.0</td>\n",
       "      <td>NaN</td>\n",
       "      <td>160.0</td>\n",
       "      <td>NaN</td>\n",
       "      <td>235.0</td>\n",
       "      <td>106048.28</td>\n",
       "      <td>NaN</td>\n",
       "      <td>1711.0</td>\n",
       "      <td>34140.73</td>\n",
       "      <td>NaN</td>\n",
       "      <td>0.0</td>\n",
       "      <td>0.0</td>\n",
       "      <td>NaN</td>\n",
       "      <td>930.0</td>\n",
       "      <td>67081.22</td>\n",
       "      <td>NaN</td>\n",
       "      <td>1016.0</td>\n",
       "      <td>73107.79</td>\n",
       "      <td>NaN</td>\n",
       "      <td>1184.0</td>\n",
       "      <td>94361.07</td>\n",
       "      <td>NaN</td>\n",
       "      <td>762.0</td>\n",
       "      <td>45827.94</td>\n",
       "      <td>1040.0</td>\n",
       "      <td>50895.21</td>\n",
       "      <td>29238.0</td>\n",
       "      <td>200.0</td>\n",
       "      <td>53.44</td>\n",
       "      <td>200.0</td>\n",
       "      <td>37637.86</td>\n",
       "      <td>5853.0</td>\n",
       "      <td>49.0</td>\n",
       "      <td>19.23</td>\n",
       "      <td>0.0</td>\n",
       "      <td>0.00</td>\n",
       "      <td>0.0</td>\n",
       "      <td>NaN</td>\n",
       "      <td>0.0</td>\n",
       "      <td>0.0</td>\n",
       "      <td>NaN</td>\n",
       "      <td>0.0</td>\n",
       "      <td>65.0</td>\n",
       "      <td>116.0</td>\n",
       "      <td>99.0</td>\n",
       "      <td>45.0</td>\n",
       "      <td>16.0</td>\n",
       "      <td>184.0</td>\n",
       "      <td>92.0</td>\n",
       "      <td>195.0</td>\n",
       "      <td>58.0</td>\n",
       "      <td>NaN</td>\n",
       "      <td>NaN</td>\n",
       "      <td>0.0</td>\n",
       "      <td>NaN</td>\n",
       "      <td>143.0</td>\n",
       "      <td>133.0</td>\n",
       "      <td>1.8029</td>\n",
       "    </tr>\n",
       "    <tr>\n",
       "      <th>2</th>\n",
       "      <td>1003000167</td>\n",
       "      <td>ESCOBAR</td>\n",
       "      <td>JULIO</td>\n",
       "      <td>E</td>\n",
       "      <td>DDS</td>\n",
       "      <td>M</td>\n",
       "      <td>I</td>\n",
       "      <td>5 PINE CONE RD</td>\n",
       "      <td>NaN</td>\n",
       "      <td>DAYTON</td>\n",
       "      <td>89403.0</td>\n",
       "      <td>7482.0</td>\n",
       "      <td>NV</td>\n",
       "      <td>US</td>\n",
       "      <td>Dentist</td>\n",
       "      <td>S</td>\n",
       "      <td>N</td>\n",
       "      <td>55</td>\n",
       "      <td>55.0</td>\n",
       "      <td>302.01</td>\n",
       "      <td>430</td>\n",
       "      <td>33.0</td>\n",
       "      <td>#</td>\n",
       "      <td>NaN</td>\n",
       "      <td>NaN</td>\n",
       "      <td>NaN</td>\n",
       "      <td>NaN</td>\n",
       "      <td>#</td>\n",
       "      <td>NaN</td>\n",
       "      <td>NaN</td>\n",
       "      <td>0.0</td>\n",
       "      <td>0.00</td>\n",
       "      <td>#</td>\n",
       "      <td>NaN</td>\n",
       "      <td>NaN</td>\n",
       "      <td>*</td>\n",
       "      <td>NaN</td>\n",
       "      <td>NaN</td>\n",
       "      <td>NaN</td>\n",
       "      <td>16.0</td>\n",
       "      <td>58.19</td>\n",
       "      <td>NaN</td>\n",
       "      <td>39.0</td>\n",
       "      <td>243.82</td>\n",
       "      <td>*</td>\n",
       "      <td>NaN</td>\n",
       "      <td>NaN</td>\n",
       "      <td>#</td>\n",
       "      <td>NaN</td>\n",
       "      <td>NaN</td>\n",
       "      <td>14.0</td>\n",
       "      <td>61.95</td>\n",
       "      <td>35.0</td>\n",
       "      <td>11.0</td>\n",
       "      <td>25.45</td>\n",
       "      <td>0.0</td>\n",
       "      <td>0.00</td>\n",
       "      <td>0.0</td>\n",
       "      <td>0.0</td>\n",
       "      <td>0.00</td>\n",
       "      <td>28.0</td>\n",
       "      <td>134.92</td>\n",
       "      <td>22.0</td>\n",
       "      <td>NaN</td>\n",
       "      <td>0.0</td>\n",
       "      <td>0.0</td>\n",
       "      <td>NaN</td>\n",
       "      <td>0.0</td>\n",
       "      <td>72.0</td>\n",
       "      <td>NaN</td>\n",
       "      <td>NaN</td>\n",
       "      <td>NaN</td>\n",
       "      <td>NaN</td>\n",
       "      <td>16.0</td>\n",
       "      <td>17.0</td>\n",
       "      <td>NaN</td>\n",
       "      <td>0.0</td>\n",
       "      <td>0.0</td>\n",
       "      <td>NaN</td>\n",
       "      <td>0.0</td>\n",
       "      <td>0.0</td>\n",
       "      <td>NaN</td>\n",
       "      <td>NaN</td>\n",
       "      <td>1.0598</td>\n",
       "    </tr>\n",
       "    <tr>\n",
       "      <th>3</th>\n",
       "      <td>1003000175</td>\n",
       "      <td>REYES-VASQUEZ</td>\n",
       "      <td>BELINDA</td>\n",
       "      <td>NaN</td>\n",
       "      <td>D.D.S.</td>\n",
       "      <td>F</td>\n",
       "      <td>I</td>\n",
       "      <td>322 N AZUSA AVE STE 202</td>\n",
       "      <td>NaN</td>\n",
       "      <td>LA PUENTE</td>\n",
       "      <td>91744.0</td>\n",
       "      <td>4648.0</td>\n",
       "      <td>CA</td>\n",
       "      <td>US</td>\n",
       "      <td>Dentist</td>\n",
       "      <td>S</td>\n",
       "      <td>N</td>\n",
       "      <td>18</td>\n",
       "      <td>18.0</td>\n",
       "      <td>113.81</td>\n",
       "      <td>150</td>\n",
       "      <td>NaN</td>\n",
       "      <td>#</td>\n",
       "      <td>NaN</td>\n",
       "      <td>NaN</td>\n",
       "      <td>NaN</td>\n",
       "      <td>NaN</td>\n",
       "      <td>#</td>\n",
       "      <td>NaN</td>\n",
       "      <td>NaN</td>\n",
       "      <td>0.0</td>\n",
       "      <td>0.00</td>\n",
       "      <td>NaN</td>\n",
       "      <td>18.0</td>\n",
       "      <td>113.81</td>\n",
       "      <td>NaN</td>\n",
       "      <td>0.0</td>\n",
       "      <td>0.0</td>\n",
       "      <td>*</td>\n",
       "      <td>NaN</td>\n",
       "      <td>NaN</td>\n",
       "      <td>*</td>\n",
       "      <td>NaN</td>\n",
       "      <td>NaN</td>\n",
       "      <td>#</td>\n",
       "      <td>NaN</td>\n",
       "      <td>NaN</td>\n",
       "      <td>*</td>\n",
       "      <td>NaN</td>\n",
       "      <td>NaN</td>\n",
       "      <td>0.0</td>\n",
       "      <td>0.00</td>\n",
       "      <td>0.0</td>\n",
       "      <td>0.0</td>\n",
       "      <td>0.00</td>\n",
       "      <td>0.0</td>\n",
       "      <td>0.00</td>\n",
       "      <td>0.0</td>\n",
       "      <td>0.0</td>\n",
       "      <td>NaN</td>\n",
       "      <td>12.0</td>\n",
       "      <td>81.54</td>\n",
       "      <td>NaN</td>\n",
       "      <td>NaN</td>\n",
       "      <td>0.0</td>\n",
       "      <td>0.0</td>\n",
       "      <td>NaN</td>\n",
       "      <td>0.0</td>\n",
       "      <td>NaN</td>\n",
       "      <td>NaN</td>\n",
       "      <td>NaN</td>\n",
       "      <td>NaN</td>\n",
       "      <td>NaN</td>\n",
       "      <td>NaN</td>\n",
       "      <td>NaN</td>\n",
       "      <td>NaN</td>\n",
       "      <td>NaN</td>\n",
       "      <td>NaN</td>\n",
       "      <td>NaN</td>\n",
       "      <td>NaN</td>\n",
       "      <td>NaN</td>\n",
       "      <td>NaN</td>\n",
       "      <td>NaN</td>\n",
       "      <td>NaN</td>\n",
       "    </tr>\n",
       "    <tr>\n",
       "      <th>4</th>\n",
       "      <td>1003000282</td>\n",
       "      <td>BLAKEMORE</td>\n",
       "      <td>ROSIE</td>\n",
       "      <td>K</td>\n",
       "      <td>FNP</td>\n",
       "      <td>F</td>\n",
       "      <td>I</td>\n",
       "      <td>TENNESSEE PRISON FOR WOMEN</td>\n",
       "      <td>3881 STEWARTS LANE</td>\n",
       "      <td>NASHVILLE</td>\n",
       "      <td>37243.0</td>\n",
       "      <td>1.0</td>\n",
       "      <td>TN</td>\n",
       "      <td>US</td>\n",
       "      <td>Nurse Practitioner</td>\n",
       "      <td>S</td>\n",
       "      <td>N</td>\n",
       "      <td>90</td>\n",
       "      <td>110.0</td>\n",
       "      <td>7561.21</td>\n",
       "      <td>2681</td>\n",
       "      <td>11.0</td>\n",
       "      <td>NaN</td>\n",
       "      <td>65.0</td>\n",
       "      <td>85.000000</td>\n",
       "      <td>3894.08</td>\n",
       "      <td>1931.0</td>\n",
       "      <td>*</td>\n",
       "      <td>NaN</td>\n",
       "      <td>NaN</td>\n",
       "      <td>28.0</td>\n",
       "      <td>6576.28</td>\n",
       "      <td>NaN</td>\n",
       "      <td>62.0</td>\n",
       "      <td>984.93</td>\n",
       "      <td>NaN</td>\n",
       "      <td>0.0</td>\n",
       "      <td>0.0</td>\n",
       "      <td>NaN</td>\n",
       "      <td>22.0</td>\n",
       "      <td>485.04</td>\n",
       "      <td>NaN</td>\n",
       "      <td>68.0</td>\n",
       "      <td>7076.17</td>\n",
       "      <td>NaN</td>\n",
       "      <td>73.0</td>\n",
       "      <td>3947.56</td>\n",
       "      <td>NaN</td>\n",
       "      <td>17.0</td>\n",
       "      <td>3613.65</td>\n",
       "      <td>0.0</td>\n",
       "      <td>0.00</td>\n",
       "      <td>0.0</td>\n",
       "      <td>0.0</td>\n",
       "      <td>0.00</td>\n",
       "      <td>0.0</td>\n",
       "      <td>0.00</td>\n",
       "      <td>0.0</td>\n",
       "      <td>0.0</td>\n",
       "      <td>NaN</td>\n",
       "      <td>0.0</td>\n",
       "      <td>0.00</td>\n",
       "      <td>0.0</td>\n",
       "      <td>NaN</td>\n",
       "      <td>0.0</td>\n",
       "      <td>0.0</td>\n",
       "      <td>NaN</td>\n",
       "      <td>0.0</td>\n",
       "      <td>62.0</td>\n",
       "      <td>NaN</td>\n",
       "      <td>NaN</td>\n",
       "      <td>NaN</td>\n",
       "      <td>NaN</td>\n",
       "      <td>NaN</td>\n",
       "      <td>NaN</td>\n",
       "      <td>NaN</td>\n",
       "      <td>NaN</td>\n",
       "      <td>0.0</td>\n",
       "      <td>NaN</td>\n",
       "      <td>0.0</td>\n",
       "      <td>0.0</td>\n",
       "      <td>NaN</td>\n",
       "      <td>NaN</td>\n",
       "      <td>4.5148</td>\n",
       "    </tr>\n",
       "  </tbody>\n",
       "</table>\n",
       "</div>"
      ],
      "text/plain": [
       "          npi nppes_provider_last_org_name nppes_provider_first_name  \\\n",
       "0  1003000126                    ENKESHAFI                   ARDALAN   \n",
       "1  1003000142                       KHALIL                    RASHID   \n",
       "2  1003000167                      ESCOBAR                     JULIO   \n",
       "3  1003000175                REYES-VASQUEZ                   BELINDA   \n",
       "4  1003000282                    BLAKEMORE                     ROSIE   \n",
       "\n",
       "  nppes_provider_mi nppes_credentials nppes_provider_gender nppes_entity_code  \\\n",
       "0               NaN              M.D.                     M                 I   \n",
       "1               NaN              M.D.                     M                 I   \n",
       "2                 E               DDS                     M                 I   \n",
       "3               NaN            D.D.S.                     F                 I   \n",
       "4                 K               FNP                     F                 I   \n",
       "\n",
       "       nppes_provider_street1 nppes_provider_street2 nppes_provider_city  \\\n",
       "0                900 SETON DR                    NaN          CUMBERLAND   \n",
       "1  4126 N HOLLAND SYLVANIA RD              SUITE 220              TOLEDO   \n",
       "2              5 PINE CONE RD                    NaN              DAYTON   \n",
       "3     322 N AZUSA AVE STE 202                    NaN           LA PUENTE   \n",
       "4  TENNESSEE PRISON FOR WOMEN     3881 STEWARTS LANE           NASHVILLE   \n",
       "\n",
       "   nppes_provider_zip5  nppes_provider_zip4 nppes_provider_state  \\\n",
       "0              21502.0               1854.0                   MD   \n",
       "1              43623.0               3536.0                   OH   \n",
       "2              89403.0               7482.0                   NV   \n",
       "3              91744.0               4648.0                   CA   \n",
       "4              37243.0                  1.0                   TN   \n",
       "\n",
       "  nppes_provider_country specialty_description description_flag  \\\n",
       "0                     US     Internal Medicine                S   \n",
       "1                     US        Anesthesiology                S   \n",
       "2                     US               Dentist                S   \n",
       "3                     US               Dentist                S   \n",
       "4                     US    Nurse Practitioner                S   \n",
       "\n",
       "  medicare_prvdr_enroll_status  total_claim_count  total_30_day_fill_count  \\\n",
       "0                            E                677                    695.5   \n",
       "1                            E               1946                   2054.8   \n",
       "2                            N                 55                     55.0   \n",
       "3                            N                 18                     18.0   \n",
       "4                            N                 90                    110.0   \n",
       "\n",
       "   total_drug_cost  total_day_supply  bene_count ge65_suppress_flag  \\\n",
       "0         32639.57             14788       234.0                NaN   \n",
       "1        140189.01             58605       276.0                NaN   \n",
       "2           302.01               430        33.0                  #   \n",
       "3           113.81               150         NaN                  #   \n",
       "4          7561.21              2681        11.0                NaN   \n",
       "\n",
       "   total_claim_count_ge65  total_30_day_fill_count_ge65  total_drug_cost_ge65  \\\n",
       "0                   516.0                    532.533333              23174.78   \n",
       "1                   881.0                    919.066667              50838.50   \n",
       "2                     NaN                           NaN                   NaN   \n",
       "3                     NaN                           NaN                   NaN   \n",
       "4                    65.0                     85.000000               3894.08   \n",
       "\n",
       "   total_day_supply_ge65 bene_count_ge65_suppress_flag  bene_count_ge65  \\\n",
       "0                11428.0                           NaN            182.0   \n",
       "1                26089.0                           NaN            160.0   \n",
       "2                    NaN                             #              NaN   \n",
       "3                    NaN                             #              NaN   \n",
       "4                 1931.0                             *              NaN   \n",
       "\n",
       "  brand_suppress_flag  brand_claim_count  brand_drug_cost  \\\n",
       "0                   #                NaN              NaN   \n",
       "1                 NaN              235.0        106048.28   \n",
       "2                 NaN                0.0             0.00   \n",
       "3                 NaN                0.0             0.00   \n",
       "4                 NaN               28.0          6576.28   \n",
       "\n",
       "  generic_suppress_flag  generic_claim_count  generic_drug_cost  \\\n",
       "0                   NaN                552.0            5941.53   \n",
       "1                   NaN               1711.0           34140.73   \n",
       "2                     #                  NaN                NaN   \n",
       "3                   NaN                 18.0             113.81   \n",
       "4                   NaN                 62.0             984.93   \n",
       "\n",
       "  other_suppress_flag  other_claim_count  other_drug_cost mapd_suppress_flag  \\\n",
       "0                   *                NaN              NaN                NaN   \n",
       "1                 NaN                0.0              0.0                NaN   \n",
       "2                   *                NaN              NaN                NaN   \n",
       "3                 NaN                0.0              0.0                  *   \n",
       "4                 NaN                0.0              0.0                NaN   \n",
       "\n",
       "   mapd_claim_count  mapd_drug_cost pdp_suppress_flag  pdp_claim_count  \\\n",
       "0             150.0         3032.66               NaN            527.0   \n",
       "1             930.0        67081.22               NaN           1016.0   \n",
       "2              16.0           58.19               NaN             39.0   \n",
       "3               NaN             NaN                 *              NaN   \n",
       "4              22.0          485.04               NaN             68.0   \n",
       "\n",
       "   pdp_drug_cost lis_suppress_flag  lis_claim_count  lis_drug_cost  \\\n",
       "0       29606.91               NaN            305.0       17267.72   \n",
       "1       73107.79               NaN           1184.0       94361.07   \n",
       "2         243.82                 *              NaN            NaN   \n",
       "3            NaN                 #              NaN            NaN   \n",
       "4        7076.17               NaN             73.0        3947.56   \n",
       "\n",
       "  nonlis_suppress_flag  nonlis_claim_count  nonlis_drug_cost  \\\n",
       "0                  NaN               372.0          15371.85   \n",
       "1                  NaN               762.0          45827.94   \n",
       "2                    #                 NaN               NaN   \n",
       "3                    *                 NaN               NaN   \n",
       "4                  NaN                17.0           3613.65   \n",
       "\n",
       "   opioid_claim_count  opioid_drug_cost  opioid_day_supply  opioid_bene_count  \\\n",
       "0                25.0            197.47              134.0               24.0   \n",
       "1              1040.0          50895.21            29238.0              200.0   \n",
       "2                14.0             61.95               35.0               11.0   \n",
       "3                 0.0              0.00                0.0                0.0   \n",
       "4                 0.0              0.00                0.0                0.0   \n",
       "\n",
       "   opioid_prescriber_rate  la_opioid_claim_count  la_opioid_drug_cost  \\\n",
       "0                    3.69                    NaN                  NaN   \n",
       "1                   53.44                  200.0             37637.86   \n",
       "2                   25.45                    0.0                 0.00   \n",
       "3                    0.00                    0.0                 0.00   \n",
       "4                    0.00                    0.0                 0.00   \n",
       "\n",
       "   la_opioid_day_supply  la_opioid_bene_count  la_opioid_prescriber_rate  \\\n",
       "0                   NaN                   NaN                        NaN   \n",
       "1                5853.0                  49.0                      19.23   \n",
       "2                   0.0                   0.0                       0.00   \n",
       "3                   0.0                   0.0                        NaN   \n",
       "4                   0.0                   0.0                        NaN   \n",
       "\n",
       "   antibiotic_claim_count  antibiotic_drug_cost  antibiotic_bene_count  \\\n",
       "0                   125.0               2478.65                  104.0   \n",
       "1                     0.0                  0.00                    0.0   \n",
       "2                    28.0                134.92                   22.0   \n",
       "3                    12.0                 81.54                    NaN   \n",
       "4                     0.0                  0.00                    0.0   \n",
       "\n",
       "  antipsych_ge65_suppress_flag  antipsych_claim_count_ge65  \\\n",
       "0                            *                         NaN   \n",
       "1                          NaN                         0.0   \n",
       "2                          NaN                         0.0   \n",
       "3                          NaN                         0.0   \n",
       "4                          NaN                         0.0   \n",
       "\n",
       "   antipsych_drug_cost_ge65 antipsych_bene_ge65_suppress_flg  \\\n",
       "0                       NaN                                *   \n",
       "1                       0.0                              NaN   \n",
       "2                       0.0                              NaN   \n",
       "3                       0.0                              NaN   \n",
       "4                       0.0                              NaN   \n",
       "\n",
       "   antipsych_bene_count_ge65  average_age_of_beneficiaries  \\\n",
       "0                        NaN                          72.0   \n",
       "1                        0.0                          65.0   \n",
       "2                        0.0                          72.0   \n",
       "3                        0.0                           NaN   \n",
       "4                        0.0                          62.0   \n",
       "\n",
       "   beneficiary_age_less_65_count  beneficiary_age_65_74_count  \\\n",
       "0                           52.0                         82.0   \n",
       "1                          116.0                         99.0   \n",
       "2                            NaN                          NaN   \n",
       "3                            NaN                          NaN   \n",
       "4                            NaN                          NaN   \n",
       "\n",
       "   beneficiary_age_75_84_count  beneficiary_age_greater_84_count  \\\n",
       "0                         67.0                              33.0   \n",
       "1                         45.0                              16.0   \n",
       "2                          NaN                               NaN   \n",
       "3                          NaN                               NaN   \n",
       "4                          NaN                               NaN   \n",
       "\n",
       "   beneficiary_female_count  beneficiary_male_count  \\\n",
       "0                     142.0                    92.0   \n",
       "1                     184.0                    92.0   \n",
       "2                      16.0                    17.0   \n",
       "3                       NaN                     NaN   \n",
       "4                       NaN                     NaN   \n",
       "\n",
       "   beneficiary_race_white_count  beneficiary_race_black_count  \\\n",
       "0                         220.0                          14.0   \n",
       "1                         195.0                          58.0   \n",
       "2                           NaN                           0.0   \n",
       "3                           NaN                           NaN   \n",
       "4                           NaN                           NaN   \n",
       "\n",
       "   beneficiary_race_asian_pi_count  beneficiary_race_hispanic_count  \\\n",
       "0                              0.0                              0.0   \n",
       "1                              NaN                              NaN   \n",
       "2                              0.0                              NaN   \n",
       "3                              NaN                              NaN   \n",
       "4                              0.0                              NaN   \n",
       "\n",
       "   beneficiary_race_nat_ind_count  beneficiary_race_other_count  \\\n",
       "0                             0.0                           0.0   \n",
       "1                             0.0                           NaN   \n",
       "2                             0.0                           0.0   \n",
       "3                             NaN                           NaN   \n",
       "4                             0.0                           0.0   \n",
       "\n",
       "   beneficiary_nondual_count  beneficiary_dual_count  \\\n",
       "0                      143.0                    91.0   \n",
       "1                      143.0                   133.0   \n",
       "2                        NaN                     NaN   \n",
       "3                        NaN                     NaN   \n",
       "4                        NaN                     NaN   \n",
       "\n",
       "   beneficiary_average_risk_score  \n",
       "0                          2.1685  \n",
       "1                          1.8029  \n",
       "2                          1.0598  \n",
       "3                             NaN  \n",
       "4                          4.5148  "
      ]
     },
     "execution_count": 4,
     "metadata": {},
     "output_type": "execute_result"
    }
   ],
   "source": [
    "df2017.head()"
   ]
  },
  {
   "cell_type": "code",
   "execution_count": 96,
   "metadata": {},
   "outputs": [
    {
     "name": "stdout",
     "output_type": "stream",
     "text": [
      "158.3494585173676\n"
     ]
    }
   ],
   "source": [
    "# Average number of beneficiaries per provider\n",
    "average_bene = (df2017.bene_count.sum())/(df2017.bene_count.notna().sum())\n",
    "print(average_bene)"
   ]
  },
  {
   "cell_type": "code",
   "execution_count": 83,
   "metadata": {},
   "outputs": [
    {
     "name": "stdout",
     "output_type": "stream",
     "text": [
      "29.7125748502994\n"
     ]
    }
   ],
   "source": [
    "# Length of the average prescription\n",
    "# Check for zero:\n",
    "if df2017.total_claim_count.isna().sum() == 0:\n",
    "    df2017['average_length'] = df2017.total_day_supply / df2017.total_claim_count\n",
    "print(df2017.average_length.median())"
   ]
  },
  {
   "cell_type": "code",
   "execution_count": 56,
   "metadata": {
    "collapsed": true
   },
   "outputs": [],
   "source": [
    "temp = df2017[df2017.brand_claim_count.notna()].groupby(['specialty_description'], as_index = False).agg(\n",
    "        {'total_claim_count': ['sum'], 'brand_claim_count': ['sum']})\n"
   ]
  },
  {
   "cell_type": "code",
   "execution_count": 67,
   "metadata": {
    "collapsed": true
   },
   "outputs": [],
   "source": [
    "temp['ratio'] = temp.brand_claim_count['sum']/temp.total_claim_count['sum']"
   ]
  },
  {
   "cell_type": "code",
   "execution_count": 77,
   "metadata": {},
   "outputs": [
    {
     "name": "stdout",
     "output_type": "stream",
     "text": [
      "0.09664998667912823\n"
     ]
    }
   ],
   "source": [
    "# STD of brand named ratio by specialty for specialties with over 1000 claims\n",
    "print(temp[temp.total_claim_count['sum']>=1000].ratio.std())"
   ]
  },
  {
   "cell_type": "code",
   "execution_count": 81,
   "metadata": {
    "collapsed": true
   },
   "outputs": [],
   "source": [
    "# Assuming we only care about regular opioid claims, not long-acting opioids\n",
    "# Also assuming all states, the question was not specific to continental US\n",
    "temp = df2017.groupby(['nppes_provider_state'], as_index = False).agg(\n",
    "        {'opioid_bene_count': ['sum'], 'antibiotic_bene_count': ['sum']})\n"
   ]
  },
  {
   "cell_type": "code",
   "execution_count": 83,
   "metadata": {
    "collapsed": true
   },
   "outputs": [],
   "source": [
    "temp['ratio'] = temp.opioid_bene_count['sum']/temp.antibiotic_bene_count['sum']"
   ]
  },
  {
   "cell_type": "code",
   "execution_count": 89,
   "metadata": {},
   "outputs": [
    {
     "data": {
      "text/plain": [
       "0.6331097230267027"
      ]
     },
     "execution_count": 89,
     "metadata": {},
     "output_type": "execute_result"
    }
   ],
   "source": [
    "max(temp.ratio)-min(temp.ratio)"
   ]
  },
  {
   "cell_type": "code",
   "execution_count": 99,
   "metadata": {
    "collapsed": true
   },
   "outputs": [],
   "source": [
    "# What is the Pearson correlation coefficient between he fraction of claims for beneficiaries age 65 and older, \n",
    "# and the fraction of claims for beneficiaries with a low-income subsidy.\n",
    "# Assuming that when the question states columns that are not suppressed, the data is not used if any of the columns are suppressed.\n",
    "cols = ['beneficiary_age_65_74_count', 'beneficiary_age_75_84_count', 'beneficiary_age_greater_84_count','lis_claim_count']\n",
    "temp = df2017.dropna(subset = cols)[cols]\n",
    "temp['over_65'] = temp[cols[:-1]].sum(axis=1)"
   ]
  },
  {
   "cell_type": "code",
   "execution_count": 102,
   "metadata": {},
   "outputs": [
    {
     "data": {
      "text/html": [
       "<div>\n",
       "<style scoped>\n",
       "    .dataframe tbody tr th:only-of-type {\n",
       "        vertical-align: middle;\n",
       "    }\n",
       "\n",
       "    .dataframe tbody tr th {\n",
       "        vertical-align: top;\n",
       "    }\n",
       "\n",
       "    .dataframe thead th {\n",
       "        text-align: right;\n",
       "    }\n",
       "</style>\n",
       "<table border=\"1\" class=\"dataframe\">\n",
       "  <thead>\n",
       "    <tr style=\"text-align: right;\">\n",
       "      <th></th>\n",
       "      <th>over_65</th>\n",
       "      <th>lis_claim_count</th>\n",
       "    </tr>\n",
       "  </thead>\n",
       "  <tbody>\n",
       "    <tr>\n",
       "      <th>over_65</th>\n",
       "      <td>1.000000</td>\n",
       "      <td>0.323951</td>\n",
       "    </tr>\n",
       "    <tr>\n",
       "      <th>lis_claim_count</th>\n",
       "      <td>0.323951</td>\n",
       "      <td>1.000000</td>\n",
       "    </tr>\n",
       "  </tbody>\n",
       "</table>\n",
       "</div>"
      ],
      "text/plain": [
       "                  over_65  lis_claim_count\n",
       "over_65          1.000000         0.323951\n",
       "lis_claim_count  0.323951         1.000000"
      ]
     },
     "execution_count": 102,
     "metadata": {},
     "output_type": "execute_result"
    }
   ],
   "source": [
    "temp[['over_65','lis_claim_count']].corr()"
   ]
  },
  {
   "cell_type": "code",
   "execution_count": 64,
   "metadata": {},
   "outputs": [
    {
     "name": "stderr",
     "output_type": "stream",
     "text": [
      "c:\\python\\python35\\lib\\site-packages\\ipykernel_launcher.py:3: SettingWithCopyWarning: \n",
      "A value is trying to be set on a copy of a slice from a DataFrame.\n",
      "Try using .loc[row_indexer,col_indexer] = value instead\n",
      "\n",
      "See the caveats in the documentation: http://pandas.pydata.org/pandas-docs/stable/indexing.html#indexing-view-versus-copy\n",
      "  This is separate from the ipykernel package so we can avoid doing imports until\n"
     ]
    }
   ],
   "source": [
    "# Let's find which states have surprisingly high supply of opioids, conditioned on specialty.\n",
    "temp = df2017[['nppes_provider_state','specialty_description', 'opioid_day_supply', 'opioid_claim_count', 'npi']]\n",
    "temp['ratio'] = temp.opioid_day_supply / temp.opioid_claim_count"
   ]
  },
  {
   "cell_type": "code",
   "execution_count": 6,
   "metadata": {},
   "outputs": [
    {
     "data": {
      "text/html": [
       "<div>\n",
       "<style scoped>\n",
       "    .dataframe tbody tr th:only-of-type {\n",
       "        vertical-align: middle;\n",
       "    }\n",
       "\n",
       "    .dataframe tbody tr th {\n",
       "        vertical-align: top;\n",
       "    }\n",
       "\n",
       "    .dataframe thead th {\n",
       "        text-align: right;\n",
       "    }\n",
       "</style>\n",
       "<table border=\"1\" class=\"dataframe\">\n",
       "  <thead>\n",
       "    <tr style=\"text-align: right;\">\n",
       "      <th></th>\n",
       "      <th>nppes_provider_state</th>\n",
       "      <th>specialty_description</th>\n",
       "      <th>opioid_day_supply</th>\n",
       "      <th>opioid_claim_count</th>\n",
       "      <th>npi</th>\n",
       "      <th>ratio</th>\n",
       "    </tr>\n",
       "  </thead>\n",
       "  <tbody>\n",
       "    <tr>\n",
       "      <th>0</th>\n",
       "      <td>MD</td>\n",
       "      <td>Internal Medicine</td>\n",
       "      <td>134.0</td>\n",
       "      <td>25.0</td>\n",
       "      <td>1003000126</td>\n",
       "      <td>5.360000</td>\n",
       "    </tr>\n",
       "    <tr>\n",
       "      <th>1</th>\n",
       "      <td>OH</td>\n",
       "      <td>Anesthesiology</td>\n",
       "      <td>29238.0</td>\n",
       "      <td>1040.0</td>\n",
       "      <td>1003000142</td>\n",
       "      <td>28.113462</td>\n",
       "    </tr>\n",
       "    <tr>\n",
       "      <th>2</th>\n",
       "      <td>NV</td>\n",
       "      <td>Dentist</td>\n",
       "      <td>35.0</td>\n",
       "      <td>14.0</td>\n",
       "      <td>1003000167</td>\n",
       "      <td>2.500000</td>\n",
       "    </tr>\n",
       "    <tr>\n",
       "      <th>3</th>\n",
       "      <td>CA</td>\n",
       "      <td>Dentist</td>\n",
       "      <td>0.0</td>\n",
       "      <td>0.0</td>\n",
       "      <td>1003000175</td>\n",
       "      <td>NaN</td>\n",
       "    </tr>\n",
       "    <tr>\n",
       "      <th>4</th>\n",
       "      <td>TN</td>\n",
       "      <td>Nurse Practitioner</td>\n",
       "      <td>0.0</td>\n",
       "      <td>0.0</td>\n",
       "      <td>1003000282</td>\n",
       "      <td>NaN</td>\n",
       "    </tr>\n",
       "  </tbody>\n",
       "</table>\n",
       "</div>"
      ],
      "text/plain": [
       "  nppes_provider_state specialty_description  opioid_day_supply  \\\n",
       "0                   MD     Internal Medicine              134.0   \n",
       "1                   OH        Anesthesiology            29238.0   \n",
       "2                   NV               Dentist               35.0   \n",
       "3                   CA               Dentist                0.0   \n",
       "4                   TN    Nurse Practitioner                0.0   \n",
       "\n",
       "   opioid_claim_count         npi      ratio  \n",
       "0                25.0  1003000126   5.360000  \n",
       "1              1040.0  1003000142  28.113462  \n",
       "2                14.0  1003000167   2.500000  \n",
       "3                 0.0  1003000175        NaN  \n",
       "4                 0.0  1003000282        NaN  "
      ]
     },
     "execution_count": 6,
     "metadata": {},
     "output_type": "execute_result"
    }
   ],
   "source": [
    "temp.head()"
   ]
  },
  {
   "cell_type": "code",
   "execution_count": 7,
   "metadata": {
    "collapsed": true
   },
   "outputs": [],
   "source": [
    "pair_count = temp.groupby(['nppes_provider_state', 'specialty_description'], as_index = False).agg(\n",
    "        {'npi':['count']})"
   ]
  },
  {
   "cell_type": "code",
   "execution_count": 62,
   "metadata": {
    "collapsed": true
   },
   "outputs": [],
   "source": [
    "pair_set = set()\n",
    "for index, row in pair_count[pair_count.npi['count'] >= 100].iterrows():\n",
    "    pair_set.add((row.nppes_provider_state.item(), row.specialty_description.item()))"
   ]
  },
  {
   "cell_type": "code",
   "execution_count": 65,
   "metadata": {
    "collapsed": true
   },
   "outputs": [],
   "source": [
    "def pair_counts(row):\n",
    "    state = row.nppes_provider_state\n",
    "    job = row.specialty_description\n",
    "    if (state, job) in pair_set:\n",
    "        return 1\n",
    "    else: \n",
    "        return 0\n",
    "    "
   ]
  },
  {
   "cell_type": "code",
   "execution_count": 66,
   "metadata": {},
   "outputs": [
    {
     "name": "stderr",
     "output_type": "stream",
     "text": [
      "c:\\python\\python35\\lib\\site-packages\\ipykernel_launcher.py:1: SettingWithCopyWarning: \n",
      "A value is trying to be set on a copy of a slice from a DataFrame.\n",
      "Try using .loc[row_indexer,col_indexer] = value instead\n",
      "\n",
      "See the caveats in the documentation: http://pandas.pydata.org/pandas-docs/stable/indexing.html#indexing-view-versus-copy\n",
      "  \"\"\"Entry point for launching an IPython kernel.\n"
     ]
    }
   ],
   "source": [
    "temp['counts'] = temp.apply(lambda row: pair_counts(row), axis = 1)"
   ]
  },
  {
   "cell_type": "code",
   "execution_count": 73,
   "metadata": {},
   "outputs": [
    {
     "name": "stdout",
     "output_type": "stream",
     "text": [
      "15.215713525165615\n"
     ]
    }
   ],
   "source": [
    "average_ratio = temp[temp['counts'] == 1].ratio.mean()\n",
    "print(average_ratio)"
   ]
  },
  {
   "cell_type": "code",
   "execution_count": 78,
   "metadata": {
    "collapsed": true
   },
   "outputs": [],
   "source": [
    "temp_state = temp[temp['counts'] == 1].groupby('specialty_description').agg({'ratio':'mean'})\n",
    "temp_state['scaled_ratio'] = average_ratio/temp_state.ratio"
   ]
  },
  {
   "cell_type": "code",
   "execution_count": 81,
   "metadata": {},
   "outputs": [
    {
     "data": {
      "text/plain": [
       "4.425436574456785"
      ]
     },
     "execution_count": 81,
     "metadata": {},
     "output_type": "execute_result"
    }
   ],
   "source": [
    "max_ratio = max(temp_state.scaled_ratio)\n",
    "print(max_ratio)"
   ]
  },
  {
   "cell_type": "code",
   "execution_count": 88,
   "metadata": {
    "collapsed": true
   },
   "outputs": [],
   "source": [
    "# Average cost per day of prescriptions in both 2016 and 2017\n",
    "# We know the average length of a prescription already, now just divide the cost by the length in days\n",
    "df2017['cost_per_day'] = df2017.total_drug_cost / df2017.average_length"
   ]
  },
  {
   "cell_type": "code",
   "execution_count": 91,
   "metadata": {},
   "outputs": [
    {
     "name": "stdout",
     "output_type": "stream",
     "text": [
      "3499.612480078\n"
     ]
    }
   ],
   "source": [
    "average_cost_2017 = df2017['cost_per_day'].mean()\n",
    "print(average_cost_2017)"
   ]
  },
  {
   "cell_type": "code",
   "execution_count": 92,
   "metadata": {},
   "outputs": [
    {
     "name": "stderr",
     "output_type": "stream",
     "text": [
      "c:\\python\\python35\\lib\\site-packages\\ipykernel_launcher.py:1: FutureWarning: read_table is deprecated, use read_csv instead, passing sep='\\t'.\n",
      "  \"\"\"Entry point for launching an IPython kernel.\n"
     ]
    }
   ],
   "source": [
    "df2016 = pd.read_table(\"PartD_Prescriber_PUF_NPI_16.txt\")"
   ]
  },
  {
   "cell_type": "code",
   "execution_count": 93,
   "metadata": {
    "collapsed": true
   },
   "outputs": [],
   "source": [
    "if df2016.total_claim_count.isna().sum() == 0:\n",
    "    df2016['average_length'] = df2016.total_day_supply / df2016.total_claim_count\n",
    "df2016['cost_per_day'] = df2016.total_drug_cost / df2016.average_length\n",
    "average_cost_2016 = df2016['cost_per_day'].mean()\n",
    "print(average_cost_2016)"
   ]
  },
  {
   "cell_type": "code",
   "execution_count": 95,
   "metadata": {},
   "outputs": [
    {
     "name": "stdout",
     "output_type": "stream",
     "text": [
      "1.0030290500719194\n"
     ]
    }
   ],
   "source": [
    "inflation = average_cost_2017 / average_cost_2016\n",
    "print(inflation)"
   ]
  },
  {
   "cell_type": "code",
   "execution_count": 169,
   "metadata": {
    "collapsed": true
   },
   "outputs": [],
   "source": [
    "# Find the fraction of providers who left each specialty between 2016 and 2017.\n",
    "temp2016 = df2016.groupby('specialty_description', as_index = False).agg({'npi':['count']})"
   ]
  },
  {
   "cell_type": "code",
   "execution_count": 170,
   "metadata": {},
   "outputs": [
    {
     "data": {
      "text/html": [
       "<div>\n",
       "<style scoped>\n",
       "    .dataframe tbody tr th:only-of-type {\n",
       "        vertical-align: middle;\n",
       "    }\n",
       "\n",
       "    .dataframe tbody tr th {\n",
       "        vertical-align: top;\n",
       "    }\n",
       "\n",
       "    .dataframe thead tr th {\n",
       "        text-align: left;\n",
       "    }\n",
       "</style>\n",
       "<table border=\"1\" class=\"dataframe\">\n",
       "  <thead>\n",
       "    <tr>\n",
       "      <th></th>\n",
       "      <th>specialty_description</th>\n",
       "      <th>npi</th>\n",
       "    </tr>\n",
       "    <tr>\n",
       "      <th></th>\n",
       "      <th></th>\n",
       "      <th>count</th>\n",
       "    </tr>\n",
       "  </thead>\n",
       "  <tbody>\n",
       "    <tr>\n",
       "      <th>0</th>\n",
       "      <td>Acupuncturist</td>\n",
       "      <td>86</td>\n",
       "    </tr>\n",
       "    <tr>\n",
       "      <th>1</th>\n",
       "      <td>Addiction Medicine</td>\n",
       "      <td>217</td>\n",
       "    </tr>\n",
       "    <tr>\n",
       "      <th>2</th>\n",
       "      <td>Advanced Practice Dental Therapist</td>\n",
       "      <td>2</td>\n",
       "    </tr>\n",
       "    <tr>\n",
       "      <th>3</th>\n",
       "      <td>Allergy/ Immunology</td>\n",
       "      <td>3600</td>\n",
       "    </tr>\n",
       "    <tr>\n",
       "      <th>4</th>\n",
       "      <td>Allergy/Immunology</td>\n",
       "      <td>416</td>\n",
       "    </tr>\n",
       "  </tbody>\n",
       "</table>\n",
       "</div>"
      ],
      "text/plain": [
       "                specialty_description   npi\n",
       "                                      count\n",
       "0                       Acupuncturist    86\n",
       "1                  Addiction Medicine   217\n",
       "2  Advanced Practice Dental Therapist     2\n",
       "3                 Allergy/ Immunology  3600\n",
       "4                  Allergy/Immunology   416"
      ]
     },
     "execution_count": 170,
     "metadata": {},
     "output_type": "execute_result"
    }
   ],
   "source": [
    "temp2016.head()"
   ]
  },
  {
   "cell_type": "code",
   "execution_count": 128,
   "metadata": {},
   "outputs": [
    {
     "name": "stderr",
     "output_type": "stream",
     "text": [
      "c:\\python\\python35\\lib\\site-packages\\IPython\\core\\interactiveshell.py:2862: SettingWithCopyWarning: \n",
      "A value is trying to be set on a copy of a slice from a DataFrame\n",
      "\n",
      "See the caveats in the documentation: http://pandas.pydata.org/pandas-docs/stable/indexing.html#indexing-view-versus-copy\n",
      "  exec(code_obj, self.user_global_ns, self.user_ns)\n"
     ]
    }
   ],
   "source": [
    "temp2016.npi['count']['Allergy/ Immunology'] += 416"
   ]
  },
  {
   "cell_type": "code",
   "execution_count": 177,
   "metadata": {
    "collapsed": true
   },
   "outputs": [],
   "source": [
    "temp2017 = df2017.groupby('specialty_description', as_index = False).agg({'npi':['count']})"
   ]
  },
  {
   "cell_type": "code",
   "execution_count": 127,
   "metadata": {},
   "outputs": [
    {
     "data": {
      "text/plain": [
       "4026"
      ]
     },
     "execution_count": 127,
     "metadata": {},
     "output_type": "execute_result"
    }
   ],
   "source": [
    "['Allergy/ Immunology']"
   ]
  },
  {
   "cell_type": "code",
   "execution_count": 192,
   "metadata": {
    "collapsed": true
   },
   "outputs": [],
   "source": [
    "def find_job(row):\n",
    "    job = row.specialty_description.item()\n",
    "    if job in temp2017.specialty_description.values:\n",
    "        return temp2017[temp2017.specialty_description == job].npi['count'].item()\n",
    "    return 0"
   ]
  },
  {
   "cell_type": "code",
   "execution_count": 195,
   "metadata": {
    "collapsed": true
   },
   "outputs": [],
   "source": [
    "temp2016['count_2017'] = temp2016.apply(find_job, axis = 1)"
   ]
  },
  {
   "cell_type": "code",
   "execution_count": 202,
   "metadata": {
    "collapsed": true
   },
   "outputs": [],
   "source": [
    "temp2016['difference'] = temp2016.npi['count'] - temp2016['count_2017']"
   ]
  },
  {
   "cell_type": "code",
   "execution_count": 203,
   "metadata": {
    "collapsed": true
   },
   "outputs": [],
   "source": [
    "temp2016['fraction'] = temp2016['difference']/temp2016.npi['count']"
   ]
  },
  {
   "cell_type": "code",
   "execution_count": 208,
   "metadata": {},
   "outputs": [
    {
     "name": "stdout",
     "output_type": "stream",
     "text": [
      "0.6\n"
     ]
    }
   ],
   "source": [
    "max_fraction = temp2016[temp2016.fraction < 1.0].fraction.max()\n",
    "print(max_fraction)"
   ]
  },
  {
   "cell_type": "code",
   "execution_count": 209,
   "metadata": {},
   "outputs": [
    {
     "data": {
      "text/html": [
       "<div>\n",
       "<style scoped>\n",
       "    .dataframe tbody tr th:only-of-type {\n",
       "        vertical-align: middle;\n",
       "    }\n",
       "\n",
       "    .dataframe tbody tr th {\n",
       "        vertical-align: top;\n",
       "    }\n",
       "\n",
       "    .dataframe thead tr th {\n",
       "        text-align: left;\n",
       "    }\n",
       "</style>\n",
       "<table border=\"1\" class=\"dataframe\">\n",
       "  <thead>\n",
       "    <tr>\n",
       "      <th></th>\n",
       "      <th>specialty_description</th>\n",
       "      <th>npi</th>\n",
       "      <th>count_2017</th>\n",
       "      <th>difference</th>\n",
       "      <th>fraction</th>\n",
       "    </tr>\n",
       "    <tr>\n",
       "      <th></th>\n",
       "      <th></th>\n",
       "      <th>count</th>\n",
       "      <th></th>\n",
       "      <th></th>\n",
       "      <th></th>\n",
       "    </tr>\n",
       "  </thead>\n",
       "  <tbody>\n",
       "    <tr>\n",
       "      <th>179</th>\n",
       "      <td>Radiologic Technologist</td>\n",
       "      <td>5</td>\n",
       "      <td>2</td>\n",
       "      <td>3</td>\n",
       "      <td>0.6</td>\n",
       "    </tr>\n",
       "  </tbody>\n",
       "</table>\n",
       "</div>"
      ],
      "text/plain": [
       "       specialty_description   npi count_2017 difference fraction\n",
       "                             count                               \n",
       "179  Radiologic Technologist     5          2          3      0.6"
      ]
     },
     "execution_count": 209,
     "metadata": {},
     "output_type": "execute_result"
    }
   ],
   "source": [
    "temp2016[temp2016.fraction == max_fraction]"
   ]
  },
  {
   "cell_type": "markdown",
   "metadata": {},
   "source": [
    "# STATS"
   ]
  },
  {
   "cell_type": "code",
   "execution_count": 31,
   "metadata": {
    "collapsed": true
   },
   "outputs": [],
   "source": [
    "def gen_seq(N):\n",
    "    out = []\n",
    "    for _ in range(1000000):\n",
    "        arr = np.arange(1, N+1)\n",
    "        np.random.shuffle(arr)\n",
    "        temp = arr[0]\n",
    "        for j in range(len(arr)-1):\n",
    "            temp += abs(arr[j] - arr[j+1])\n",
    "        out.append(temp)\n",
    "    return out"
   ]
  },
  {
   "cell_type": "code",
   "execution_count": 32,
   "metadata": {},
   "outputs": [],
   "source": [
    "out_10 = gen_seq(10)"
   ]
  },
  {
   "cell_type": "code",
   "execution_count": 33,
   "metadata": {},
   "outputs": [
    {
     "name": "stdout",
     "output_type": "stream",
     "text": [
      "Mean of N = 10: 38.501675\n"
     ]
    }
   ],
   "source": [
    "print('Mean of N = 10: {}'.format(np.mean(out_10)))"
   ]
  },
  {
   "cell_type": "code",
   "execution_count": 34,
   "metadata": {},
   "outputs": [
    {
     "name": "stdout",
     "output_type": "stream",
     "text": [
      "STD of N = 10: 6.357895814998465\n"
     ]
    }
   ],
   "source": [
    "print('STD of N = 10: {}'.format(np.std(out_10)))"
   ]
  },
  {
   "cell_type": "code",
   "execution_count": 35,
   "metadata": {
    "collapsed": true
   },
   "outputs": [],
   "source": [
    "out_20 = gen_seq(20)"
   ]
  },
  {
   "cell_type": "code",
   "execution_count": 36,
   "metadata": {},
   "outputs": [
    {
     "name": "stdout",
     "output_type": "stream",
     "text": [
      "Mean of N = 20: 143.491227\n",
      "STD of N = 20: 18.440293518121425\n"
     ]
    }
   ],
   "source": [
    "print('Mean of N = 20: {}'.format(np.mean(out_20)))\n",
    "print('STD of N = 20: {}'.format(np.std(out_20)))"
   ]
  },
  {
   "cell_type": "code",
   "execution_count": 37,
   "metadata": {},
   "outputs": [
    {
     "name": "stdout",
     "output_type": "stream",
     "text": [
      "Prob greater than or equal 45 for N = 10: 0.18163\n"
     ]
    }
   ],
   "source": [
    "print('Prob greater than or equal 45 for N = 10: {}'.format(np.mean([i >= 45 for i in out_10])))"
   ]
  },
  {
   "cell_type": "code",
   "execution_count": 38,
   "metadata": {},
   "outputs": [
    {
     "name": "stdout",
     "output_type": "stream",
     "text": [
      "Prob greater than or equal 160 for N = 20: 0.197842\n"
     ]
    }
   ],
   "source": [
    "print('Prob greater than or equal 160 for N = 20: {}'.format(np.mean([i >= 160 for i in out_20])))"
   ]
  },
  {
   "cell_type": "code",
   "execution_count": 28,
   "metadata": {},
   "outputs": [],
   "source": [
    "out_5 = gen_seq(5)"
   ]
  },
  {
   "cell_type": "code",
   "execution_count": 30,
   "metadata": {},
   "outputs": [
    {
     "data": {
      "text/plain": [
       "11.0112"
      ]
     },
     "execution_count": 30,
     "metadata": {},
     "output_type": "execute_result"
    }
   ],
   "source": [
    "np.mean(out_5)"
   ]
  },
  {
   "cell_type": "code",
   "execution_count": null,
   "metadata": {
    "collapsed": true
   },
   "outputs": [],
   "source": []
  }
 ],
 "metadata": {
  "kernelspec": {
   "display_name": "Python 3",
   "language": "python",
   "name": "python3"
  },
  "language_info": {
   "codemirror_mode": {
    "name": "ipython",
    "version": 3
   },
   "file_extension": ".py",
   "mimetype": "text/x-python",
   "name": "python",
   "nbconvert_exporter": "python",
   "pygments_lexer": "ipython3",
   "version": "3.5.3"
  }
 },
 "nbformat": 4,
 "nbformat_minor": 4
}
